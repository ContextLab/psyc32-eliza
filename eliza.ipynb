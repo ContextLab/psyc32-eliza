{
  "nbformat": 4,
  "nbformat_minor": 0,
  "metadata": {
    "colab": {
      "name": "eliza.ipynb",
      "provenance": [],
      "collapsed_sections": [],
      "toc_visible": true,
      "include_colab_link": true
    },
    "kernelspec": {
      "name": "python3",
      "display_name": "Python 3"
    }
  },
  "cells": [
    {
      "cell_type": "markdown",
      "metadata": {
        "id": "view-in-github",
        "colab_type": "text"
      },
      "source": [
        "<a href=\"https://colab.research.google.com/github/ContextLab/psyc32-eliza/blob/master/eliza.ipynb\" target=\"_parent\"><img src=\"https://colab.research.google.com/assets/colab-badge.svg\" alt=\"Open In Colab\"/></a>"
      ]
    },
    {
      "cell_type": "markdown",
      "metadata": {
        "id": "mxrDK8FxUCLj",
        "colab_type": "text"
      },
      "source": [
        "# ELIZA: Introduction and overview\n",
        "\n",
        "ELIZA is the earliest precursor to modern [chatbot](https://en.wikipedia.org/wiki/Chatbot) programs, designed to carry out [natural language](https://en.wikipedia.org/wiki/Natural_language_processing) conversations with human users in real time.  When Joseph Weizenbaum presented his [paper on ELIZA](https://www.dropbox.com/s/djldsm2jlgwvrxc/Weiz66.pdf) in 1966, he characterized it as a demonstration that even very simple computer programs can be made to appear intelligent through clever tricks.\n",
        "\n",
        "ELIZA is intended to emulate the behavior of a [non-directive therapist](https://en.wikipedia.org/wiki/Person-centered_therapy), where the user plays the role of the patient.  The user interacts with ELIZA through natural conversation; here is an excerpt from an example conversation presented in Weizenbaum's paper (capitalized responses are made by ELIZA):\n",
        "```\n",
        "Men are all alike.\n",
        "IN WHAT WAY\n",
        "They're always bugging us about something or other.\n",
        "CAN YOU THINK OF A SPECIFIC EXAMPLE\n",
        "Well, my boyfriend made me come here.\n",
        "YOUR BOYFRIEND MADE YOU COME HERE\n",
        "He says I'm depressed much of the time.\n",
        "I AM SORRY TO HEAR YOU ARE DEPRESSED\n",
        "It's true.  I am unhappy.\n",
        "DO YOU THINK COMING HERE WILL HELP YOU NOT TO BE UNHAPPY\n",
        "I need some help, that much seems certain.\n",
        "WHAT WOULD IT MEAN TO YOU IF YOU GOT SOME HELP\n",
        "Perhaps I could learn to get along with my mother.\n",
        "TELL ME MORE ABOUT YOUR FAMILY\n",
        "...\n",
        "```\n",
        "The central idea that ELIZA is built on text manipulations of the user's responses.  There are seven basic steps to the [ELIZA algorithm](http://chayden.net/eliza/instructions.txt):\n",
        "1. First the sentence broken down into words, separated by spaces.  All further processing takes place on these words as a whole, not on the individual characters in them.\n",
        "2. Second, a set of pre-substitutions takes place.  If any of a pre-defined set of words is found in the user's input, those words are substituted for a matching set of replacement words.\n",
        "3. Third, Eliza takes all the words in the sentence and makes a list of all keywords it finds.  It sorts this keyword list in descending weight.  It process these keywords until it produces an output.\n",
        "4. Fourth, for the given keyword, a list of decomposition patterns is searched.  (A decomposition pattern is a set of words that contains a particular pre-defined sequence.) The first one that matches is selected.  If no match is found, the next keyword\n",
        "is selected instead.\n",
        "5. Fifth, for the matching decomposition pattern, a reassembly pattern is selected.  There may be several possible reassembly patterns to choose from, but only one is used for a given sentence.  If a subsequent sentence selects the same decomposition\n",
        "pattern, the next reassembly pattern in sequence is used, until they have all been used, at which point ELIZA starts over with the first reassembly pattern.  Reassembly patterns are intended to provide realistic sounding responses to common keywords.  For example, the decomposition pattern `sorry` might be replaced with the reassembly pattern `PLEASE DON'T APOLOGIZE`.\n",
        "6. Sixth, a set of post-substitutions takes place.  If any of a pre-defined set of words is found in the current response input, those words are substituted for a matching set of replacement words.\n",
        "7. Finally, the resulting sentence is displayed as output.\n",
        "\n",
        "We'll be using a [pre-defined text file](https://github.com/ContextLab/cs-for-psych/raw/master/assignments/eliza/instructions.txt) to define the specific set of manipulations and substitutions ELIZA will make.  You'll also be provided with a [skeleton template](https://en.wikipedia.org/wiki/Skeleton_(computer_programming) describing how your code should be organized and what each function should do (with some functions already filled in).  Your job in this assignment will be to fill in the missing code indicated by comments, e.g.:\n",
        "```\n",
        "#### FILL THIS IN #####\n",
        "#   <YOUR CODE HERE>\n",
        "#######################\n",
        "```\n",
        "\n",
        "Once you've written all of the required functions, you should [test](https://en.wikipedia.org/wiki/Software_testing) your code by running example calls to ELIZA's functions (and/or by running an interactive session) and verifying that the expected outputs are produced.\n"
      ]
    },
    {
      "cell_type": "markdown",
      "metadata": {
        "id": "TwNS0QMz6RMG",
        "colab_type": "text"
      },
      "source": [
        "## Grading\n",
        "\n",
        "This assignment will be worth 14 points:\n",
        "- 2 points for each of the seven stages of processing described above:\n",
        "  - Fully working code that passes all tests earns the full 2 points\n",
        "  - Partially working code earns a proportion of the total number of points depending on how many tests are passed\n",
        "  - Non-functional code and/or pseudocode (i.e. a description of how you were trying to solve the problem) can earn up to 1 point, e.g. for a \"correct\" description that would have worked if it had been implemented correctly.\n",
        "- Up to 3 \"bonus\" points will be awarded for particularly elegant or creative solutions, and/or for writing particularly \"nice\" code:\n",
        "  - Writing especially efficient code or algorithm; up to 2 points\n",
        "  - Using consistent variable naming and formatting and/or producing especially readable code (also see [PEP 8 documentation](https://www.python.org/dev/peps/pep-0008/)); up to 1 point\n",
        "  - Other creative extensions or implementations (e.g. additional functionality) can earn bonus points as well if the 3 possible bonus points haven't already been earned."
      ]
    },
    {
      "cell_type": "markdown",
      "metadata": {
        "id": "vIavn0v46U8a",
        "colab_type": "text"
      },
      "source": [
        "## Further reading\n",
        "\n",
        "Whereas ELIZA is intended to create the *illusion* of understanding natural conversation through programming tricks, cutting-edge chatbot programs attempt to explicitly model the meaning underlying human-computer conversations.  For example, the [Meena](https://arxiv.org/pdf/2001.09977.pdf) chatbot is trained to represent meanings as [feature vectors](https://en.wikipedia.org/wiki/Feature_(machine_learning)) using [word embedding](https://en.wikipedia.org/wiki/Word_embedding) models trained on a large collection of documents.  The specific model that Meena uses is called [GPT-2](https://openai.com/blog/better-language-models/), which was developed by [OpenAI](https://openai.com/about/).  A related chatbot, called [AI Dungeon 2](https://aidungeon.io/) uses GPT-2 to simulate a [fantasy role-playing game](https://en.wikipedia.org/wiki/Tabletop_role-playing_game) where the game's story is generated through human-computer interactions.  Because these modern chatbots are trained on large document collections, they are able to produce responses that leverage \"knowledge\" about a wide variety of content."
      ]
    },
    {
      "cell_type": "markdown",
      "metadata": {
        "id": "8QVuL9sZ6c3E",
        "colab_type": "text"
      },
      "source": [
        "## A note before you begin\n",
        "\n",
        "If you are new to programming, the ELIZA chatbot is likely your most complex coding project to date.  It's common to feel like the project is impossible and that you are not equipped to figure it out.  Don't let yourself become your own enemy!  Take some deep breaths and take stock of what you've learned so far in this course.  In the tutorials you've gone through, we've covered all of the tools you need to complete this assignment.\n",
        "\n",
        "The most useful tip I can offer is also the key to approaching any daunting project: **break it down into tiny \"bite-sized\" steps that are easy for you to solve**.  Don't try to solve *everything*-- just try to keep making tiny bits of progress.  They'll add up to a complete solution before you know it, as each bit of progress unlocks new depths of understanding of the problem and your code.\n",
        "\n",
        "Another almost-as-useful tip is that **you are not alone** in completing the assignment.  Make use of our [Gitter chatroom](https://gitter.im/cs-for-psych/community) by posting code snippets and questions.  Bring your questions to class.  Work together with your classmates to figure things out.  And don't forget that many of the problems you're trying to solve have *already been solved*.  If you can find existing solutions to your problems online, feel free to borrow liberally from and/or lightly modify or adapt other people's code! (Just include a comment with a link to the original source of the copied code so that the original author gets some credit.)\n",
        "\n",
        "This assignement is meant to provide a challenge.  Try to have some fun with it.  The point is for you to solidify your understanding and grow your programming skill set.  Good luck!"
      ]
    },
    {
      "cell_type": "markdown",
      "metadata": {
        "id": "V2j4pbdSgkEn",
        "colab_type": "text"
      },
      "source": [
        "# High-level organization\n",
        "The code in this assignment will be organized in a series of Python classes for carrying out the text manipulations described in Weizenbaum (1966)'s algorithm."
      ]
    },
    {
      "cell_type": "markdown",
      "metadata": {
        "id": "Oa3el7RzuPYI",
        "colab_type": "text"
      },
      "source": [
        "# Library and data imports\n",
        "\n",
        "No additional coding is needed in the next cell; just run it."
      ]
    },
    {
      "cell_type": "code",
      "metadata": {
        "id": "MGCdzqSwefzU",
        "colab_type": "code",
        "colab": {}
      },
      "source": [
        "#library imports\n",
        "import urllib.request as get\n",
        "import random\n",
        "\n",
        "#read in lightly edited ELIZA \"rules\" as defined by Weizenbaum (1966)\n",
        "instructions_url = 'https://github.com/ContextLab/cs-for-psych/raw/master/assignments/eliza/instructions.txt'\n",
        "data = get.urlopen(instructions_url)\n",
        "instructions = []\n",
        "for x in data:\n",
        "  instructions.append(x.decode('utf-8').strip())"
      ],
      "execution_count": 0,
      "outputs": []
    },
    {
      "cell_type": "markdown",
      "metadata": {
        "id": "hzwQzOtg58V8",
        "colab_type": "text"
      },
      "source": [
        "# The `DebugPrinter` class\n",
        "\n",
        "All classes we define will be derived from the `DebugPrinter` class, defined in the next cell.  Objects of type `DebugPrinter` contain a special `print` function that displays a formatted message if (and only if) a `debug` flag is set to `True`.  This will allow you to peek into the inner workings of the code as you're writing and testing it, to facilitate finding and correcting bugs.  I'll also use the `debug` flag when I'm grading your assignment so that I can verify that the correct operations are being performed (and in the correct order).  No additional coding is required to define this class."
      ]
    },
    {
      "cell_type": "code",
      "metadata": {
        "id": "mvNiXf4bWuh3",
        "colab_type": "code",
        "colab": {}
      },
      "source": [
        "class DebugPrinter:\n",
        "  def __init__(debug=False):\n",
        "    self.debug = debug\n",
        "  \n",
        "  def print(self, msg):\n",
        "    if self.debug:\n",
        "      print('\\t# ' + msg)"
      ],
      "execution_count": 0,
      "outputs": []
    },
    {
      "cell_type": "markdown",
      "metadata": {
        "id": "u_TmiTIGJqKJ",
        "colab_type": "text"
      },
      "source": [
        "# The `Sub` class\n",
        "\n",
        "`Sub` objects provide a convenient means of replacing a given word with another word.  The `Sub` class is a sub-class of `DebugPrinter`, so `Sub` objects also support the `debug` attribute and `print` method.  In addition, `Sub` objects have the following attributes:\n",
        "  - `word`: the to-be-replaced word (a `str` object)\n",
        "  - `replacement`: a list of strings that `word` will be replaced with\n",
        "\n",
        "`Sub` objects support a single method:\n",
        "  - `apply(x)`: if `x` matches `word`, return `self.replacement`; otherwise return `x`"
      ]
    },
    {
      "cell_type": "code",
      "metadata": {
        "id": "ieRxcu5UdKNP",
        "colab_type": "code",
        "colab": {}
      },
      "source": [
        "class Sub(DebugPrinter):\n",
        "  def __init__(self, word, replacement, debug=False):\n",
        "    self.word = word\n",
        "    self.replacement = replacement\n",
        "    self.debug = debug\n",
        "  \n",
        "  def __str__(self):\n",
        "    return \"substitute \" + self.word + \" for \" + str(self.replacement)\n",
        "  \n",
        "  def apply(self, x):\n",
        "    #### FILL THIS IN #####\n",
        "    #   <YOUR CODE HERE>\n",
        "    #######################  "
      ],
      "execution_count": 0,
      "outputs": []
    },
    {
      "cell_type": "markdown",
      "metadata": {
        "id": "fhNFe05qLPOb",
        "colab_type": "text"
      },
      "source": [
        "# The `Synonym` class\n",
        "\n",
        "`Synonym` objects provide a convenient means of replacing a given *set* of words with a target word.  In this way, `Synonym` objects work similarly to `Sub` objects-- but whereas `Sub` objects serve to replace a single word with another single target word, `Synonym` objects act like a series of associated `Sub` objects all with the same target word.  The `Synonym` class is a sub-class of `DebugPrinter`, so `Synonym` objects also support the `debug` attribute and `print` method.  In addition, `Synonym` objects have the following attribute:\n",
        "  - `subs`: a list of `Sub` objects representing synonyms of the given target word\n",
        "\n",
        "`Synonym` objects also support a single method:\n",
        "  - `apply(x)`: calls `s.apply(x)` for each `Sub` object `s` in `self.subs`.  If no substitutions were made, return `x`."
      ]
    },
    {
      "cell_type": "code",
      "metadata": {
        "id": "PRmmZpN6fuKz",
        "colab_type": "code",
        "colab": {}
      },
      "source": [
        "class Synonym(DebugPrinter):\n",
        "  def __init__(self, word, matches, debug=False):\n",
        "    self.subs = []\n",
        "    for m in matches:\n",
        "      self.subs.append(Sub(m, word, debug))\n",
        "  \n",
        "  def __str__(self):\n",
        "    if len(self.subs) > 0:\n",
        "      return \"synonyms for \" + self.subs[0].replacement + \": \" + ', '.join([s.word for s in self.subs])\n",
        "    else:\n",
        "      return ''\n",
        "  \n",
        "  def apply(self, x):\n",
        "    #### FILL THIS IN #####\n",
        "    #   <YOUR CODE HERE>\n",
        "    #######################  "
      ],
      "execution_count": 0,
      "outputs": []
    },
    {
      "cell_type": "markdown",
      "metadata": {
        "id": "OxrodYSlC7yw",
        "colab_type": "text"
      },
      "source": [
        "# The `Decomposition` class\n",
        "\n",
        "Instances of the `Decomposition` class store specific template text patterns that describe how a list of words may be broken down into a set of parts.  `Decomposition` objects also contain a list of `Reassembler` objects that describe how to reassemble the decomposed parts back into a prototype response.  The `Decomposition` class is a sub-class of `DebugPrinter`, so `Decomposition` objects also support the `debug` attribute and `print` method.  In addition, `Decomposition` objects have the following attributes:\n",
        "  - `parts`: a list of `str` objects that each follow one of three possible formats:\n",
        "    - `'*'` matches *any possible* set of 0 or more words\n",
        "    - Strings that begin with the `@` character match the given word, or any *synonym* of that word (as defined by a given list of `Synonym` objects)\n",
        "    - Other strings are tested for exact matches (i.e., only words that exactly match the given part are considered matches)\n",
        "\n",
        "  The `parts` list defines a template (e.g., `['*', 'I', 'feel', 'like', '*']`) whose components may be tested against a given list of words (e.g., `['I', 'feel', 'like', 'I', 'finally', 'belong']` matches the example template whereas `['I', 'do', 'not', 'like', 'snakes']` does not match the example template).\n",
        "  - `save`: a Boolean (`True` or `False`) that determines whether the reassembled pattern will be saved in ELIZA's memory (`True`) or forgotten (`False`)\n",
        "  - `reasmbs`: a list of `Reassembler` and/or `Key` objects.  These determine how the matched decomposed text should be reassembled into a response.\n",
        "  - `idx`: used to keep track of which reassembly pattern will be used next.\n",
        "\n",
        "`Decomposition` objects also contain the following methods:\n",
        "  - `next_reassembly`: returns the reassembly template (from `self.reasmbs`) indicated by `self.idx`, and then increments `self.idx` by 1 (or resets `self.idx` to 0 if `self.idx >= len(self.reasmbs)`).\n",
        "  - `add_reasmb(r)`: appends the `Reassembler` or `Key` object, `r` to `self.reasmbs`\n",
        "  - `match(words, synonyms, format_func)`: given a list of `Synonym` objects (`synonyms`), `match` returns the tuple `match_found, template, save`:\n",
        "    - `match_found` is `True` if the given `words` match the decomposition template and `False` otherwise\n",
        "    - `template` is a nested list comprising the decomposed components that were matched to `'*'` or via synonym matches (i.e., template words starting with `'@'`).  This is used by `Reassembler` objects to generate a response.\n",
        "    - `save` is set to `self.save`\n",
        "\n",
        "## Implementation hints for `match`\n",
        "\n",
        "The `Decomposition.match` function is the most difficult component of the ELIZA program.  Take careful care to make sure you understand how it should work.  I recommend breaking down the function as follows:\n",
        "  - Write a `match_helper` function that takes two strings (e.g., `a` and `b`) as arguments, where `a` is the \"template\" and `b` is the word in the user's input being compared to the template:\n",
        "    - Return 0 if `a` is equal to the universal match character (`'*'`)\n",
        "    - Return 1 if `a` exactly matches `b`\n",
        "    - Return 2 if `a` starts with the `'@'` character and is a synonym of `b` (this requires checking each `Synonym` object in the provided list)\n",
        "  - In the main `match` function, you'll need a way to keep track of which elements of `self.parts` have been matched with which words in `words`.  This will form the `template` that ultimately gets returned.  Anything group of words matched to the `*` character or via a synonym match should be appended to the template (as a list of individual words).\n",
        "  - The trickiest part of the implementation is to figure out which parts of the inputs should be matched to which universal match characters (if any).  For example, the words `['this', 'is', 'a', 'test']` should match the template `['*', 'is', '*', 'a', '*']` via the following components: `[['this'], [''], ['test']]`.  Note that the `*` characters in the template each continue to match words in the input until a subsequent word in the input matches a subsequent part of the template.  In addition, if a `*` universal match character in the template doesn't correspond to *any* words in the input, it still counts as a \"match\" since the `*` character can match an empty string."
      ]
    },
    {
      "cell_type": "code",
      "metadata": {
        "id": "R71PvASaZXED",
        "colab_type": "code",
        "colab": {}
      },
      "source": [
        "class Decomposition(DebugPrinter):\n",
        "  def __init__(self, parts, save, reasmbs, debug=False):\n",
        "    self.parts = parts\n",
        "    self.save = save\n",
        "    self.reasmbs = reasmbs\n",
        "    self.idx = 0\n",
        "    self.debug = debug\n",
        "  \n",
        "  def __str__(self):\n",
        "    return 'decompose ' + str(self.parts) + ' (save = ' + str(self.save) + ')'\n",
        "  \n",
        "  def next_reassembly(self):\n",
        "    #### FILL THIS IN #####\n",
        "    #   <YOUR CODE HERE>\n",
        "    #######################\n",
        "  \n",
        "  def add_reasmb(self, r):\n",
        "    #### FILL THIS IN #####\n",
        "    #   <YOUR CODE HERE>\n",
        "    ####################### \n",
        "\n",
        "  def match(self, words, synonyms=[], format_func=lambda x: x):\n",
        "    #### FILL THIS IN #####\n",
        "    #   <YOUR CODE HERE>\n",
        "    #######################"
      ],
      "execution_count": 0,
      "outputs": []
    },
    {
      "cell_type": "markdown",
      "metadata": {
        "id": "N5FjGecHSgF6",
        "colab_type": "text"
      },
      "source": [
        "# The `Reassembler` class\n",
        "\n",
        "Instances of the `Reassembler` class store instructions for reassembling the results of a decomposed set of words (produced by `Decomposition.apply`) into a response.  The `Reassembler` class is also a sub-class of `DebugPrinter`, so `Reassembler` objects also support the `debug` attribute and `print` method.  In addition, `Reassembler` objects have the following attribute:\n",
        "  - `template`: a list of `str` objects specifying the words (or patterns) that will be used to generate a response.  Each `str` is either an arbitrary word (e.g., a sequence of alphanumeric characters and/or symbols), or can take the form `(<x>)`, where `<x>` is replaced with any `int` greater than or equal to 0.\n",
        "\n",
        "`Reassembler` objects support a single method (aside from `print`):\n",
        "  - `apply(words)`: given a list (`words`) of decomposed components (lists of strings), `apply` uses `self.template` to generate (and return) a response.  The response should comprise a single string of words and/or symbols separated by spaces.  The response is generated by parsing the given `words` as follows:\n",
        "    - The response will match `self.template`, except in places where the template contains parenthetical indices (of the form `(<x>)` described above).\n",
        "    - Parenthetical indices indicate where the `self.template` text will be replaced with the corresponding words.  For example, if the template `['why', 'do', 'you', 'think', 'you', 'are', '(2)']` were applied to the decomposed response `[['Lately', 'I', 'have', 'been'], ['worried']]`, the `(2)` would be replaced with the second element of the decomposed response (in this case, `'worried'`), resulting in the response `'why do you think you are worried'`."
      ]
    },
    {
      "cell_type": "code",
      "metadata": {
        "id": "qe--QWoPgKaT",
        "colab_type": "code",
        "colab": {}
      },
      "source": [
        "class Reassembler(DebugPrinter):\n",
        "  def __init__(self, template, debug=False):\n",
        "    self.template = template\n",
        "    self.debug = debug\n",
        "  \n",
        "  def __str__(self):\n",
        "    return 'reassembly template: ' + str(self.template)\n",
        "  \n",
        "  def apply(self, words):\n",
        "    #### FILL THIS IN #####\n",
        "    #   <YOUR CODE HERE>\n",
        "    #######################"
      ],
      "execution_count": 0,
      "outputs": []
    },
    {
      "cell_type": "markdown",
      "metadata": {
        "id": "RDN4_DLehjBX",
        "colab_type": "text"
      },
      "source": [
        "# The `Key` class\n",
        "\n",
        "The `Key` class stores (and applies) rules based on keyword searches.  Each instance of a `Key` object has the following properties (in addition to `debug`, which is inherited from the `DebugPrinter` class):\n",
        "  - `word`: the keyword the `Key` is based on (a `str`)\n",
        "  - `weight`: used to determine the order in which this particular `Key` is tested, relative to the other `Key` objects\n",
        "  - `decomps`: a list of `Decomposition` objects.  These define a set of text patterns to look for.\n",
        "\n",
        "`Key` objects also support two methods (functions):\n",
        "  - `add_decomp(d)`: appends the `Decomposition` object, `d`, to the `self.decomps` list\n",
        "  - `match(words, synonyms, format_func)`: tests the given list of `words` to see if it matches each `Decomposition` object in `self.decomps`.  Return a tuple, `reassembly, template`, `save` (given by `Decomposition.match`).  If no match is found (across all `Decomposition` objects), return `False, [], False`."
      ]
    },
    {
      "cell_type": "code",
      "metadata": {
        "id": "RYGNS-wTVORr",
        "colab_type": "code",
        "colab": {}
      },
      "source": [
        "class Key(DebugPrinter):\n",
        "  def __init__(self, word, weight, debug=False):\n",
        "    self.word = word\n",
        "    self.weight = weight\n",
        "    self.decomps = []\n",
        "    self.debug = debug\n",
        "  \n",
        "  def __str__(self):\n",
        "    return \"keyword: \" + self.word + \" (weight: \" + str(self.weight) + \")\"\n",
        "  \n",
        "  def add_decomp(self, decomp):\n",
        "    #### FILL THIS IN #####\n",
        "    #   <YOUR CODE HERE>\n",
        "    #######################\n",
        "  \n",
        "  def match(self, words, synonyms=[], format_func=lambda x: x):\n",
        "    #### FILL THIS IN #####\n",
        "    #   <YOUR CODE HERE>\n",
        "    #######################"
      ],
      "execution_count": 0,
      "outputs": []
    },
    {
      "cell_type": "markdown",
      "metadata": {
        "id": "r3M5UjQaebM3",
        "colab_type": "text"
      },
      "source": [
        "# The `Brain` class\n",
        "\n",
        "The `Brain` class acts like ELIZA's brain by parsing and storing the instructions that ELIZA will use to respond to inputted text.  The `Brain` class is also a sub-class of `DebugPrinter`, so `Brain` objects also support the `debug` attribute and `print` method.  In addition, `Brain` objects have the following attributes:\n",
        "  - `initials`: a list of greeting messages (`str` objects)\n",
        "  - `finals`: a list of exit messages (`str` objects)\n",
        "  - `quits`: a list of keywords.  If the user types any keyword in this list, ELIZA ends the current interaction session.\n",
        "  - `pres`: a list of `Sub` objects that define pre-processing text substitutions (applied to the user's input immediately after it has been parsed into individual lowercase words)\n",
        "  - `posts`: a list of `Sub` objects that define post-processing text substitutions (applied to the user's inputted text after it has been decomposed into a template)\n",
        "  - `synons`: a list of `Synonym` objects that define sets of equivalent keyword matches\n",
        "  - `keys`: a list of `Key` objects that describe how to decompose processed text containing a given keyword (or synonym of the keyword)\n",
        "  - `memories`: a list of remembered phrases (initially empty).  If an inputted string is tagged for saving, the unprocessed input is appended (as a `str`) to `self.memories`.\n",
        "\n",
        "`Brain` objects also support two methods:\n",
        "  - `search_keys(keyword)`: return a list of `Key` objects (selected from `self.keys`) whose keywords match the given `keyword` argument.\n",
        "  - `parse_instruction(tag, content)`: parse a single instruction from the [ELIZA instructions text file](https://github.com/ContextLab/cs-for-psych/raw/master/assignments/eliza/instructions.txt)."
      ]
    },
    {
      "cell_type": "code",
      "metadata": {
        "id": "AEq26PfwagkY",
        "colab_type": "code",
        "colab": {}
      },
      "source": [
        "class Brain(DebugPrinter):\n",
        "  def __init__(self, instructions, debug=False):\n",
        "    self.initials = []\n",
        "    self.finals = []\n",
        "    self.quits = []\n",
        "    self.pres = []\n",
        "    self.posts = []\n",
        "    self.synons = []\n",
        "    self.keys = []\n",
        "    self.memories = []\n",
        "    self.debug = debug\n",
        "\n",
        "    self.state = {'key': None, 'decomp': None}\n",
        "    for i in instructions:\n",
        "      tag, content = [x.strip().lower() for x in i.split(':')]\n",
        "      parsed = self.parse_instruction(tag, content)\n",
        "      if parsed:\n",
        "        getattr(self, tag + 's').append(parsed)\n",
        "    \n",
        "    #parse goto instructions\n",
        "    for k in self.keys:\n",
        "      for d in k.decomps:\n",
        "        for i, r in enumerate(d.reasmbs):\n",
        "          if r.template[0] == 'goto':\n",
        "            d.reasmbs[i] = self.search_keys(r.template[1])[0]\n",
        "\n",
        "    delattr(self, 'state')\n",
        "  \n",
        "  def __str__(self):\n",
        "    def string_helper(x):\n",
        "      s = ''\n",
        "      for i in x:\n",
        "        s += '\\t' + str(i) + '\\n'\n",
        "      return s\n",
        "    \n",
        "    s = 'initial greetings:\\n'\n",
        "    s += string_helper(self.initials)\n",
        "    s += '\\ngoodbye messages:\\n'\n",
        "    s += string_helper(self.finals)\n",
        "    s += '\\nquit keywords:\\n'\n",
        "    s += string_helper(self.quits)\n",
        "    s += '\\npre-substution rules:\\n'\n",
        "    s += string_helper(self.pres)\n",
        "    s += '\\npost-substution rules:\\n'\n",
        "    s += string_helper(self.posts)\n",
        "    s += '\\nsynonyms:\\n'\n",
        "    s += string_helper(self.synons)\n",
        "    s += '\\nkeywords:\\n'\n",
        "    s += string_helper(self.keys)\n",
        "    s += '\\nmemories:\\n'\n",
        "    s += string_helper(self.memories)\n",
        "    return s  \n",
        "  \n",
        "  def parse_instruction(self, tag, content):\n",
        "    if tag in ['initial', 'final', 'quit']:\n",
        "      return content\n",
        "    else:\n",
        "      parts = content.split(' ')\n",
        "      if tag in ['pre', 'post']:\n",
        "        return Sub(parts[0], parts[1:], self.debug)\n",
        "      elif tag == 'synon':\n",
        "        return Synonym(parts[0], parts, self.debug)\n",
        "      elif tag == 'key':\n",
        "        word = parts[0]\n",
        "        if len(parts) > 1:\n",
        "          weight = int(parts[1])\n",
        "        else:\n",
        "          weight = 1\n",
        "        \n",
        "        self.state['key'] = Key(word, weight, self.debug)\n",
        "        return self.state['key']\n",
        "      elif tag == 'decomp':\n",
        "        save = False\n",
        "        if parts[0] == '$':\n",
        "          save = True\n",
        "          parts = parts[1:]\n",
        "        \n",
        "        self.state['decomp'] = Decomposition(parts, save, [], self.debug)\n",
        "        self.state['key'].add_decomp(self.state['decomp'])\n",
        "        return None\n",
        "      elif tag == 'reasmb':\n",
        "        self.state['decomp'].add_reasmb(Reassembler(parts, self.debug))\n",
        "        return None\n",
        "      else:\n",
        "        raise KeyError('Unknown tag: ' + tag)\n",
        "  \n",
        "  def search_keys(self, keyword):\n",
        "    #### FILL THIS IN #####\n",
        "    #   <YOUR CODE HERE>\n",
        "    #######################"
      ],
      "execution_count": 0,
      "outputs": []
    },
    {
      "cell_type": "markdown",
      "metadata": {
        "id": "BPf7QyRDhQZE",
        "colab_type": "text"
      },
      "source": [
        "# The `ELIZA` class\n",
        "\n",
        "Instances of `ELIZA` are interactive text-based chatbots that can interact with a user.  `ELIZA` is a sub-class of `DebugPrinter`, so `ELIZA` objects also support the `debug` attribute and `print` method.  In addition, `ELIZA` objects have the following attributes:\n",
        "  - `brain`: an instance of a `Brain` object, initialized using the given set of `instructions` (provided as a list of strings, where each string is a line from ELIZA's instruction file)\n",
        "  - `in_session`: a Boolean variable (initialized to `False`) that indicates whether ELIZA is currently engaged with the user (`True`) or inactive (`False`)\n",
        "  - `punctuation`: a list of strings that define which characters (or combinations of characters) will be treated as punctuation\n",
        "\n",
        "`ELIZA` objects also support the following methods:\n",
        "  - `sampler(tag, pop)`: search `self.brain` for the `list` referenced by the attribute `tag`.  Return a randomly selected item from that list.  If `pop` is `True`, also remove the item from the list (within `self.brain`).  (If `pop` is `False`, don't remove the sampled item.)\n",
        "  - `substitute(words, subs)`: given a list of strings (`words`) and `Sub` objects (`subs`), run `s.apply(w)` for each `Sub` object `s` whose keyword matches the given word `w` (for each `w` in `words`).  Remove any punctuation (defined in `self.punctuation`) from `w` prior to testing for each match.\n",
        "  - `strip_punctuation(x)`: for the string `x`, remove any characters of `x` that match any elements of `self.punctuation`.\n",
        "  - `parse_punctuation(words)`: given a list of `words` (strings), search each individual word `w` for punctuation.  If a word contains punctuation, remove it and any word that comes after it in `words`.  Return the remaining list of words.\n",
        "  - `translate(words)`: given a list of `words` (strings), strip punctuation from each word `w`.  Also replace `w` with its defined synonym by searching `self.brain.synons`.\n",
        "  - `respond(text, save_override)`: generate a response string to the given input string (`text`).  If `save_override` is `True`, do not modify ELIZA's memory (even if the instructions indicate that the response should be saved).  If `save_override` is `False` (default), follow ELIZA's instruction file with respect to modifying ELIZA's memory.\n",
        "  - `say(text)`: given a text response generated by `respond`, fix up any formatting pecularities (e.g. extra space before the final punctuation) and convert all letters to uppercase.  Print the result.\n",
        "  - `run`: print a welcome message.  Then continue to ask the user for input until they enter one of the `self.brain.quits` keywords.  If no quit keyword was entered, generate (and display) a response.  Prior to quitting, display a goodbye message."
      ]
    },
    {
      "cell_type": "code",
      "metadata": {
        "id": "f8hnRSa4mxF6",
        "colab_type": "code",
        "colab": {}
      },
      "source": [
        "class ELIZA(DebugPrinter):\n",
        "  def __init__(self, instructions, debug=False):\n",
        "    self.brain = Brain(instructions, debug)\n",
        "    self.in_session = False\n",
        "    self.debug = debug\n",
        "    self.punctuation = [',', ':', ';', '!', '.', '?', 'but']\n",
        "  \n",
        "  def __str__(self):\n",
        "    s = 'in session: ' + str(self.in_session)\n",
        "    s += '\\n\\nparsing rules:\\n\\n'\n",
        "    s += str(self.brain)\n",
        "    return s\n",
        "  \n",
        "  def sampler(self, tag, pop=False):\n",
        "    #### FILL THIS IN #####\n",
        "    #   <YOUR CODE HERE>\n",
        "    #######################\n",
        "  \n",
        "  def substitute(self, words, subs):\n",
        "    #### FILL THIS IN #####\n",
        "    #   <YOUR CODE HERE>\n",
        "    #######################\n",
        "  \n",
        "  def strip_punctuation(self, x):    \n",
        "    #### FILL THIS IN #####\n",
        "    #   <YOUR CODE HERE>\n",
        "    #######################\n",
        "  \n",
        "  def parse_punctuation(self, words):\n",
        "    #### FILL THIS IN #####\n",
        "    #   <YOUR CODE HERE>\n",
        "    #######################\n",
        "  \n",
        "  def translate(self, words):\n",
        "    #### FILL THIS IN #####\n",
        "    #   <YOUR CODE HERE>\n",
        "    #######################\n",
        "  \n",
        "  def respond(self, text, save_override=False):\n",
        "    #First the sentence is broken down into words, separated by spaces.\n",
        "    #All further processing takes place on these words as a whole, not on the\n",
        "    #individual characters in them.\n",
        "\n",
        "    #### FILL THIS IN #####\n",
        "    #   <YOUR CODE HERE>\n",
        "    #######################\n",
        "    self.print('split words: ' + str(words))\n",
        "    \n",
        "\n",
        "    #Second, a set of pre-substitutions takes place. If any of a pre-defined set\n",
        "    #of words is found in the user's input, those words are substituted for a\n",
        "    #matching set of replacement words.\n",
        "    \n",
        "    #### FILL THIS IN #####\n",
        "    #   <YOUR CODE HERE>\n",
        "    #######################\n",
        "    self.print('pre-substitutions: ' + str(words))\n",
        "\n",
        "\n",
        "    #Third, Eliza takes all the words in the sentence and makes a list of all\n",
        "    #keywords it finds. It sorts this keyword list in descending weight. It \n",
        "    #processes these keywords until it produces an output.\n",
        "\n",
        "    #### FILL THIS IN #####\n",
        "    #   <YOUR CODE HERE>\n",
        "    #######################\n",
        "    self.print('keywords: ' + str([k.word for k in keys]))\n",
        "    self.print('keyword weights: ' + str([k.weight for k in keys]))\n",
        "\n",
        "\n",
        "    #Fourth, for the given keyword, a list of decomposition patterns is\n",
        "    #searched. (A decomposition pattern is a set of words that contains a \n",
        "    #particular pre-defined template sequence.) The first one that matches is\n",
        "    #selected.  If no match is found, the next keyword is selected instead.\n",
        "    reassembly = None\n",
        "    template = []\n",
        "    save = False\n",
        "    for k in keys:\n",
        "      reassembly, template, save = k.match(words, self.brain.synons, self.strip_punctuation)\n",
        "      while type(reassembly) == Key: #handles goto statements\n",
        "        reassembly, template, save = reassembly.match(words)\n",
        "      if reassembly:\n",
        "        break\n",
        "    \n",
        "\n",
        "    #Fifth, for the matching decomposition pattern, a reassembly pattern\n",
        "    #is selected. There may be several possible reassembly patterns to\n",
        "    #choose from, but only one is used for a given sentence. If a\n",
        "    #subsequent sentence selects the same decomposition pattern, the next\n",
        "    #reassembly pattern in sequence is used, until they have all been\n",
        "    #used, at which point ELIZA starts over with the first reassembly\n",
        "    #pattern. Reassembly patterns are intended to provide realistic\n",
        "    #sounding responses to common keywords. For example, the decomposition\n",
        "    #pattern 'sorry' might be replaced with the reassembly pattern 'PLEASE\n",
        "    #DON\\'T APOLOGIZE'.\n",
        "    if reassembly:\n",
        "      self.print('decomposed response into template: ' + str(template))\n",
        "\n",
        "\n",
        "      #Sixth, a set of post-substitutions takes place. If any of a pre-\n",
        "      #defined set of words is found in the current response input, those \n",
        "      #words are substituted for a matching set of replacement words.  If there\n",
        "      #is any punctuation in any part of the template, strip out (from each\n",
        "      #part) the punctuation and everything after it      \n",
        "\n",
        "      #### FILL THIS IN #####\n",
        "      #   <YOUR CODE HERE>\n",
        "      #######################\n",
        "\n",
        "      self.print('template after post-substitutions and punctuation parsing: ' + str(template))\n",
        "      self.print('applying reassembly template: ' + str(reassembly))\n",
        "      words = reassembly.apply(template)\n",
        "      self.print('reassembled response: ' + str(words))\n",
        "    else:\n",
        "      words = []\n",
        "\n",
        "    \n",
        "    #Seventh, if no keywords have been matched,randomly select a response from\n",
        "    #memory if one exists (and then discard that response from memory).\n",
        "    if not words:\n",
        "      if self.brain.memories:\n",
        "        self.print('no response generated; randomly sampling from memory (' + str(len(self.brain.memories)) + ' available for sampling)')\n",
        "        \n",
        "        #### FILL THIS IN #####\n",
        "        #   <YOUR CODE HERE>\n",
        "        #######################\n",
        "      else:\n",
        "        self.print('no memories found.')\n",
        "\n",
        "    #Eighth, if there's still no response, use the keyword 'xnone'\n",
        "    if not words:\n",
        "      self.print(\"no response generated; using default response pattern based on keyword 'xnone'\")\n",
        "      words = self.respond('xnone')\n",
        "    \n",
        "    #If the reassembly pattern should be saved, do so\n",
        "    if save and not save_override:      \n",
        "      self.brain.memories.append(text)\n",
        "      self.print(\"storing memory: '\" + text + \"' (memories stored: \" + str(len(self.brain.memories)) + ')')\n",
        "    return words\n",
        "  \n",
        "  def say(self, text):\n",
        "    #### FILL THIS IN #####\n",
        "    #   <YOUR CODE HERE>\n",
        "    #######################\n",
        "\n",
        "  def run(self):\n",
        "    #### FILL THIS IN #####\n",
        "    #   <YOUR CODE HERE>\n",
        "    #######################"
      ],
      "execution_count": 0,
      "outputs": []
    },
    {
      "cell_type": "markdown",
      "metadata": {
        "id": "Pjr7Pc9DpbxK",
        "colab_type": "text"
      },
      "source": [
        "# Example interactive session\n",
        "\n",
        "In the next cell, create a new instance of ELIZA and run a sample interactive session with your chatbot.  Copy the output and paste it into a new markdown (text) cell as a [code block](https://github.com/adam-p/markdown-here/wiki/Markdown-Cheatsheet#code).  Some key things to try:\n",
        "  - Convince yourself that ELIZA is correctly following its pre-defined rules to produce responses.  Try to understand what your program can and can't do well (e.g., try to trick ELIZA and see where the algorithm breaks down).\n",
        "  - Show some interactions where ELIZA produces \"reasonable\" responses (i.e., responses that a human might have generated, along the lines of the example session in Weizenbaum's paper)\n",
        "  - Show some interactions where ELIZA correctly parses your input (i.e., it follows the pre-defined rules), but the result is nonsense or poorly formed responses."
      ]
    },
    {
      "cell_type": "code",
      "metadata": {
        "id": "V6DEQkEMp4Sw",
        "colab_type": "code",
        "outputId": "c3faf84c-958b-4537-890b-d8b0620bede0",
        "colab": {
          "base_uri": "https://localhost:8080/",
          "height": 68
        }
      },
      "source": [
        "eliza = ELIZA(instructions)\n",
        "eliza.run()"
      ],
      "execution_count": 0,
      "outputs": [
        {
          "output_type": "stream",
          "text": [
            "HOW ARE YOU DOING?\n",
            "> quit\n",
            "SEE YOU AGAIN NEXT WEEK.\n"
          ],
          "name": "stdout"
        }
      ]
    },
    {
      "cell_type": "markdown",
      "metadata": {
        "id": "YR22I6m3q_2U",
        "colab_type": "text"
      },
      "source": [
        "# Tips and tricks\n",
        "\n",
        "The `DebugPrinter` class can be a very useful tool.  One way to approach debugging is to add `print` statements to each class of object and/or function.  I recommend that you complete each class definition in the order it's presented in this notebook: `Sub`, `Synonym`,  `Decomposition`, `Reassembler`, `Key`, `Brain`, `ELIZA`.  As you work on each class, try the following:\n",
        "  - Create an example instance of the class with the `debug` flag set to `True` (e.g., `x = Sub('a', ['is', 'for', 'apple'], debug=True)`) and examine it:\n",
        "    - Look at the result of `print(x)` and make sure it looks like you expected\n",
        "    - Within the class definition, add calls to `self.print` to help you understand the values of different variables, and/or which instructions or conditions are being run, as your program is executed.\n",
        "    - Once you've verified that the function is working, move on to the next class definition.\n",
        "  - Try calling the different methods (functions) for that class, using example inputs.  For instance, in the above example `x.apply('a')` should return the list `['is', 'for', 'apple']`.\n",
        "  - When you try to run the full program, it's likely that new errors will come up.  Use calls to `self.print` within each class definition to check that the inputs of each function are what you expect, and that the outputs are produced correctly.\n",
        "\n",
        "## Troubleshooting\n",
        "\n",
        "If/when you get completely stuck, some or all of the following often work well for me:\n",
        "  - Make a list of things you understand and things you *don't* understand about the problem\n",
        "  - Step away from your computer and do some laps around the room (or jog in place, or do some jumping jacks)\n",
        "  - Depending on your stress level, either drink a glass of water, eat a healthy snack (e.g. an apple), or track down some ice cream.\n",
        "  - Talk through the problem out loud.  You can do this by yourself or with a friend.  The goal isn't to \"get advice\"-- it's to help you organize your own thoughts so that you can see through your own roadblocks to understanding.  Sometimes it's even helpful to explain (out loud or in writing) exactly why you *can't* solve the problem (or why it's unfair, inappropriate, too hard, etc.).  The act of precisely explaining why you can't do something still forces you to break the problem down into pieces, which can actually help you to understand it better!\n",
        "  - If you have time, go to sleep.  Often you'll find problems are easier to solve when you wake up after a good night's rest.\n",
        "  - Try some form of mindless repetetive exercise (running works well!).  Let your mind drift-- don't specifically try to work on (or avoid thinking about) the problem you're stuck on.  Just let your thoughts bounce around in your brain for a bit while you're concentrating on something else.\n",
        "\n",
        "Also please (again) ask for help-- from me, your classmates, your friends, the Internet, etc.  Part of learning to code necessarily involves working through challenges, which can be frustrating.  But if you're totally stuck and at the point where you feel like you're not learning or \"getting anything\" out of the process, it's OK to recognize that at this particular moment in your learning journey you needed some guidance.  Asking those questions is an incredibly important part of learning too!"
      ]
    },
    {
      "cell_type": "markdown",
      "metadata": {
        "id": "IIkq13w7m969",
        "colab_type": "text"
      },
      "source": [
        "# Tests\n",
        "\n",
        "To verify that ELIZA is correctly handling input, we can observe ELIZA's operations by setting `debug = True`.  If ELIZA is functioning properly, we should be able to precisely reproduce the example conversation given above.  Rather than running an interactive session (appropriate for user interaction), we'll directly call ELIZA's `say` and `respond` functions using each \"user\" line from the example conversation.  Your code should produce the text written prior to each cell:"
      ]
    },
    {
      "cell_type": "code",
      "metadata": {
        "id": "jI7HnXKtKxs4",
        "colab_type": "code",
        "colab": {}
      },
      "source": [
        "eliza = ELIZA(instructions, debug=True)"
      ],
      "execution_count": 0,
      "outputs": []
    },
    {
      "cell_type": "markdown",
      "metadata": {
        "id": "J7dqJMT9oId8",
        "colab_type": "text"
      },
      "source": [
        "The next cell should print the following:\n",
        "```\n",
        "in session: False\n",
        "\n",
        "parsing rules:\n",
        "\n",
        "initial greetings:\n",
        "\twelcome. what brings you here today ?\n",
        "\thow are you doing ?\n",
        "\n",
        "goodbye messages:\n",
        "\tsee you again next week.\n",
        "\tthat will be $200.\n",
        "\n",
        "quit keywords:\n",
        "\tbye\n",
        "\tgoodbye\n",
        "\tquit\n",
        "\tbye\n",
        "\tgoodbye\n",
        "\tquit\n",
        "\n",
        "pre-substution rules:\n",
        "\tsubstitute dont for [\"don't\"]\n",
        "\tsubstitute cant for [\"can't\"]\n",
        "\tsubstitute wont for [\"won't\"]\n",
        "\tsubstitute recollect for ['remember']\n",
        "\tsubstitute dreamt for ['dreamed']\n",
        "\tsubstitute dreams for ['dream']\n",
        "\tsubstitute maybe for ['perhaps']\n",
        "\tsubstitute how for ['what']\n",
        "\tsubstitute when for ['what']\n",
        "\tsubstitute certainly for ['yes']\n",
        "\tsubstitute machine for ['computer']\n",
        "\tsubstitute computers for ['computer']\n",
        "\tsubstitute were for ['was']\n",
        "\tsubstitute you're for ['you', 'are']\n",
        "\tsubstitute i'm for ['i', 'am']\n",
        "\tsubstitute same for ['alike']\n",
        "\n",
        "post-substution rules:\n",
        "\tsubstitute am for ['are']\n",
        "\tsubstitute your for ['my']\n",
        "\tsubstitute me for ['you']\n",
        "\tsubstitute myself for ['yourself']\n",
        "\tsubstitute yourself for ['myself']\n",
        "\tsubstitute i for ['you']\n",
        "\tsubstitute you for ['me']\n",
        "\tsubstitute my for ['your']\n",
        "\tsubstitute i'm for ['you', 'are']\n",
        "\n",
        "synonyms:\n",
        "\tsynonyms for belief: belief, feel, think, believe, wish\n",
        "\tsynonyms for family: family, mother, mom, father, dad, sister, brother, wife, children, child\n",
        "\tsynonyms for desire: desire, want, need\n",
        "\tsynonyms for sad: sad, unhappy, depressed, sick\n",
        "\tsynonyms for happy: happy, elated, glad, better\n",
        "\tsynonyms for cannot: cannot, can't\n",
        "\tsynonyms for everyone: everyone, everybody, nobody, noone\n",
        "\tsynonyms for be: be, am, is, are, was\n",
        "\n",
        "keywords:\n",
        "\tkeyword: xnone (weight: 1)\n",
        "\tkeyword: sorry (weight: 1)\n",
        "\tkeyword: apologise (weight: 1)\n",
        "\tkeyword: remember (weight: 5)\n",
        "\tkeyword: if (weight: 3)\n",
        "\tkeyword: dreamed (weight: 4)\n",
        "\tkeyword: dream (weight: 3)\n",
        "\tkeyword: perhaps (weight: 1)\n",
        "\tkeyword: name (weight: 15)\n",
        "\tkeyword: deutsch (weight: 1)\n",
        "\tkeyword: francais (weight: 1)\n",
        "\tkeyword: italiano (weight: 1)\n",
        "\tkeyword: espanol (weight: 1)\n",
        "\tkeyword: xforeign (weight: 1)\n",
        "\tkeyword: hello (weight: 1)\n",
        "\tkeyword: computer (weight: 50)\n",
        "\tkeyword: am (weight: 1)\n",
        "\tkeyword: are (weight: 1)\n",
        "\tkeyword: your (weight: 1)\n",
        "\tkeyword: was (weight: 2)\n",
        "\tkeyword: i (weight: 1)\n",
        "\tkeyword: you (weight: 1)\n",
        "\tkeyword: yes (weight: 1)\n",
        "\tkeyword: no (weight: 1)\n",
        "\tkeyword: my (weight: 2)\n",
        "\tkeyword: can (weight: 1)\n",
        "\tkeyword: what (weight: 1)\n",
        "\tkeyword: because (weight: 1)\n",
        "\tkeyword: why (weight: 1)\n",
        "\tkeyword: everyone (weight: 2)\n",
        "\tkeyword: everybody (weight: 2)\n",
        "\tkeyword: nobody (weight: 2)\n",
        "\tkeyword: noone (weight: 2)\n",
        "\tkeyword: always (weight: 1)\n",
        "\tkeyword: alike (weight: 10)\n",
        "\tkeyword: like (weight: 10)\n",
        "\n",
        "memories:\n",
        "```"
      ]
    },
    {
      "cell_type": "code",
      "metadata": {
        "id": "6F7Fc29LoJbt",
        "colab_type": "code",
        "outputId": "9267e206-f92a-4c65-9e48-f8e0e3f9c59f",
        "colab": {
          "base_uri": "https://localhost:8080/",
          "height": 1000
        }
      },
      "source": [
        "print(eliza)"
      ],
      "execution_count": 0,
      "outputs": [
        {
          "output_type": "stream",
          "text": [
            "in session: False\n",
            "\n",
            "parsing rules:\n",
            "\n",
            "initial greetings:\n",
            "\twelcome. what brings you here today ?\n",
            "\thow are you doing ?\n",
            "\n",
            "goodbye messages:\n",
            "\tsee you again next week.\n",
            "\tthat will be $200.\n",
            "\n",
            "quit keywords:\n",
            "\tbye\n",
            "\tgoodbye\n",
            "\tquit\n",
            "\tbye\n",
            "\tgoodbye\n",
            "\tquit\n",
            "\n",
            "pre-substution rules:\n",
            "\tsubstitute dont for [\"don't\"]\n",
            "\tsubstitute cant for [\"can't\"]\n",
            "\tsubstitute wont for [\"won't\"]\n",
            "\tsubstitute recollect for ['remember']\n",
            "\tsubstitute dreamt for ['dreamed']\n",
            "\tsubstitute dreams for ['dream']\n",
            "\tsubstitute maybe for ['perhaps']\n",
            "\tsubstitute how for ['what']\n",
            "\tsubstitute when for ['what']\n",
            "\tsubstitute certainly for ['yes']\n",
            "\tsubstitute machine for ['computer']\n",
            "\tsubstitute computers for ['computer']\n",
            "\tsubstitute were for ['was']\n",
            "\tsubstitute you're for ['you', 'are']\n",
            "\tsubstitute i'm for ['i', 'am']\n",
            "\tsubstitute same for ['alike']\n",
            "\n",
            "post-substution rules:\n",
            "\tsubstitute am for ['are']\n",
            "\tsubstitute your for ['my']\n",
            "\tsubstitute me for ['you']\n",
            "\tsubstitute myself for ['yourself']\n",
            "\tsubstitute yourself for ['myself']\n",
            "\tsubstitute i for ['you']\n",
            "\tsubstitute you for ['me']\n",
            "\tsubstitute my for ['your']\n",
            "\tsubstitute i'm for ['you', 'are']\n",
            "\n",
            "synonyms:\n",
            "\tsynonyms for belief: belief, feel, think, believe, wish\n",
            "\tsynonyms for family: family, mother, mom, father, dad, sister, brother, wife, children, child\n",
            "\tsynonyms for desire: desire, want, need\n",
            "\tsynonyms for sad: sad, unhappy, depressed, sick\n",
            "\tsynonyms for happy: happy, elated, glad, better\n",
            "\tsynonyms for cannot: cannot, can't\n",
            "\tsynonyms for everyone: everyone, everybody, nobody, noone\n",
            "\tsynonyms for be: be, am, is, are, was\n",
            "\n",
            "keywords:\n",
            "\tkeyword: xnone (weight: 1)\n",
            "\tkeyword: sorry (weight: 1)\n",
            "\tkeyword: apologise (weight: 1)\n",
            "\tkeyword: remember (weight: 5)\n",
            "\tkeyword: if (weight: 3)\n",
            "\tkeyword: dreamed (weight: 4)\n",
            "\tkeyword: dream (weight: 3)\n",
            "\tkeyword: perhaps (weight: 1)\n",
            "\tkeyword: name (weight: 15)\n",
            "\tkeyword: deutsch (weight: 1)\n",
            "\tkeyword: francais (weight: 1)\n",
            "\tkeyword: italiano (weight: 1)\n",
            "\tkeyword: espanol (weight: 1)\n",
            "\tkeyword: xforeign (weight: 1)\n",
            "\tkeyword: hello (weight: 1)\n",
            "\tkeyword: computer (weight: 50)\n",
            "\tkeyword: am (weight: 1)\n",
            "\tkeyword: are (weight: 1)\n",
            "\tkeyword: your (weight: 1)\n",
            "\tkeyword: was (weight: 2)\n",
            "\tkeyword: i (weight: 1)\n",
            "\tkeyword: you (weight: 1)\n",
            "\tkeyword: yes (weight: 1)\n",
            "\tkeyword: no (weight: 1)\n",
            "\tkeyword: my (weight: 2)\n",
            "\tkeyword: can (weight: 1)\n",
            "\tkeyword: what (weight: 1)\n",
            "\tkeyword: because (weight: 1)\n",
            "\tkeyword: why (weight: 1)\n",
            "\tkeyword: everyone (weight: 2)\n",
            "\tkeyword: everybody (weight: 2)\n",
            "\tkeyword: nobody (weight: 2)\n",
            "\tkeyword: noone (weight: 2)\n",
            "\tkeyword: always (weight: 1)\n",
            "\tkeyword: alike (weight: 10)\n",
            "\tkeyword: like (weight: 10)\n",
            "\n",
            "memories:\n",
            "\n"
          ],
          "name": "stdout"
        }
      ]
    },
    {
      "cell_type": "markdown",
      "metadata": {
        "id": "LgFHjNoloTF-",
        "colab_type": "text"
      },
      "source": [
        "The next cell should print the following text:\n",
        "```\n",
        "\t# split words: ['men', 'are', 'all', 'alike.']\n",
        "\t# pre-substitutions: ['men', 'are', 'all', 'alike.']\n",
        "\t# keywords: ['alike']\n",
        "\t# keyword weights: [10]\n",
        "\t# decomposed response into template: [['men', 'are', 'all', 'alike.']]\n",
        "\t# template after post-substitutions and punctuation parsing: [['men', 'are', 'all', 'alike']]\n",
        "\t# applying reassembly template: reassembly template: ['in', 'what', 'way', '?']\n",
        "\t# reassembled response: in what way ?\n",
        "IN WHAT WAY?\n",
        "```"
      ]
    },
    {
      "cell_type": "code",
      "metadata": {
        "id": "QgYxG_dpInOw",
        "colab_type": "code",
        "outputId": "6b5be285-d891-47bc-a45f-c4ca0b4806dd",
        "colab": {
          "base_uri": "https://localhost:8080/",
          "height": 170
        }
      },
      "source": [
        "eliza.say(eliza.respond(\"Men are all alike.\"))"
      ],
      "execution_count": 0,
      "outputs": [
        {
          "output_type": "stream",
          "text": [
            "\t# split words: ['men', 'are', 'all', 'alike.']\n",
            "\t# pre-substitutions: ['men', 'are', 'all', 'alike.']\n",
            "\t# keywords: ['alike']\n",
            "\t# keyword weights: [10]\n",
            "\t# decomposed response into template: [['men', 'are', 'all', 'alike.']]\n",
            "\t# template after post-substitutions and punctuation parsing: [['men', 'are', 'all', 'alike']]\n",
            "\t# applying reassembly template: reassembly template: ['in', 'what', 'way', '?']\n",
            "\t# reassembled response: in what way ?\n",
            "IN WHAT WAY?\n"
          ],
          "name": "stdout"
        }
      ]
    },
    {
      "cell_type": "markdown",
      "metadata": {
        "id": "he5MXB7codyP",
        "colab_type": "text"
      },
      "source": [
        "The next cell should print the following text:\n",
        "```\n",
        "\t# split words: [\"they're\", 'always', 'bugging', 'us', 'about', 'something', 'or', 'other.']\n",
        "\t# pre-substitutions: [\"they're\", 'always', 'bugging', 'us', 'about', 'something', 'or', 'other.']\n",
        "\t# keywords: ['always']\n",
        "\t# keyword weights: [1]\n",
        "\t# decomposed response into template: [[\"they're\", 'always', 'bugging', 'us', 'about', 'something', 'or', 'other.']]\n",
        "\t# template after post-substitutions and punctuation parsing: [[\"they're\", 'always', 'bugging', 'us', 'about', 'something', 'or', 'other']]\n",
        "\t# applying reassembly template: reassembly template: ['can', 'you', 'think', 'of', 'a', 'specific', 'example', '?']\n",
        "\t# reassembled response: can you think of a specific example ?\n",
        "CAN YOU THINK OF A SPECIFIC EXAMPLE?\n",
        "```"
      ]
    },
    {
      "cell_type": "code",
      "metadata": {
        "id": "fDTXgr6m0fiO",
        "colab_type": "code",
        "outputId": "0caea859-5cc5-42a9-b735-d98ea0950b01",
        "colab": {
          "base_uri": "https://localhost:8080/",
          "height": 170
        }
      },
      "source": [
        "eliza.say(eliza.respond(\"They're always bugging us about something or other.\"))"
      ],
      "execution_count": 0,
      "outputs": [
        {
          "output_type": "stream",
          "text": [
            "\t# split words: [\"they're\", 'always', 'bugging', 'us', 'about', 'something', 'or', 'other.']\n",
            "\t# pre-substitutions: [\"they're\", 'always', 'bugging', 'us', 'about', 'something', 'or', 'other.']\n",
            "\t# keywords: ['always']\n",
            "\t# keyword weights: [1]\n",
            "\t# decomposed response into template: [[\"they're\", 'always', 'bugging', 'us', 'about', 'something', 'or', 'other.']]\n",
            "\t# template after post-substitutions and punctuation parsing: [[\"they're\", 'always', 'bugging', 'us', 'about', 'something', 'or', 'other']]\n",
            "\t# applying reassembly template: reassembly template: ['can', 'you', 'think', 'of', 'a', 'specific', 'example', '?']\n",
            "\t# reassembled response: can you think of a specific example ?\n",
            "CAN YOU THINK OF A SPECIFIC EXAMPLE?\n"
          ],
          "name": "stdout"
        }
      ]
    },
    {
      "cell_type": "markdown",
      "metadata": {
        "id": "hyMIclLuol4Y",
        "colab_type": "text"
      },
      "source": [
        "The next cell should print the following text:\n",
        "```\n",
        "\t# split words: ['well,', 'my', 'boyfriend', 'made', 'me', 'come', 'here.']\n",
        "\t# pre-substitutions: ['well,', 'my', 'boyfriend', 'made', 'me', 'come', 'here.']\n",
        "\t# keywords: ['my']\n",
        "\t# keyword weights: [2]\n",
        "\t# decomposed response into template: [['well,'], ['boyfriend', 'made', 'me', 'come', 'here.']]\n",
        "\t# substituting 'me' for ['you']\n",
        "\t# template after post-substitutions and punctuation parsing: [['well'], ['boyfriend', 'made', 'you', 'come', 'here']]\n",
        "\t# applying reassembly template: reassembly template: ['your', '(2)', '.']\n",
        "\t# reassembled response: your boyfriend made you come here .\n",
        "\t# storing memory: 'Well, my boyfriend made me come here.' (memories stored: 1)\n",
        "YOUR BOYFRIEND MADE YOU COME HERE.\n",
        "```"
      ]
    },
    {
      "cell_type": "code",
      "metadata": {
        "id": "QeO0Rlq20krm",
        "colab_type": "code",
        "outputId": "301fadc1-9ebc-44d8-fff4-277910463fd0",
        "colab": {
          "base_uri": "https://localhost:8080/",
          "height": 204
        }
      },
      "source": [
        "eliza.say(eliza.respond(\"Well, my boyfriend made me come here.\"))"
      ],
      "execution_count": 0,
      "outputs": [
        {
          "output_type": "stream",
          "text": [
            "\t# split words: ['well,', 'my', 'boyfriend', 'made', 'me', 'come', 'here.']\n",
            "\t# pre-substitutions: ['well,', 'my', 'boyfriend', 'made', 'me', 'come', 'here.']\n",
            "\t# keywords: ['my']\n",
            "\t# keyword weights: [2]\n",
            "\t# decomposed response into template: [['well,'], ['boyfriend', 'made', 'me', 'come', 'here.']]\n",
            "\t# substituting 'me' for ['you']\n",
            "\t# template after post-substitutions and punctuation parsing: [['well'], ['boyfriend', 'made', 'you', 'come', 'here']]\n",
            "\t# applying reassembly template: reassembly template: ['your', '(2)', '.']\n",
            "\t# reassembled response: your boyfriend made you come here .\n",
            "\t# storing memory: 'Well, my boyfriend made me come here.' (memories stored: 1)\n",
            "YOUR BOYFRIEND MADE YOU COME HERE.\n"
          ],
          "name": "stdout"
        }
      ]
    },
    {
      "cell_type": "markdown",
      "metadata": {
        "id": "qwZLa9W9orHI",
        "colab_type": "text"
      },
      "source": [
        "The next cell should produce the following text:\n",
        "```\n",
        "\t# split words: ['he', 'says', \"i'm\", 'depressed', 'much', 'of', 'the', 'time.']\n",
        "\t# substituting 'i'm' for ['i', 'am']\n",
        "\t# pre-substitutions: ['he', 'says', 'i', 'am', 'depressed', 'much', 'of', 'the', 'time.']\n",
        "\t# keywords: ['i']\n",
        "\t# keyword weights: [1]\n",
        "\t# decomposed response into template: [['he', 'says'], [], ['depressed'], ['much', 'of', 'the', 'time.']]\n",
        "\t# template after post-substitutions and punctuation parsing: [['he', 'says'], [''], ['depressed'], ['much', 'of', 'the', 'time']]\n",
        "\t# applying reassembly template: reassembly template: ['do', 'you', 'think', 'that', 'coming', 'here', 'will', 'help', 'you', 'not', 'to', 'be', '(3)', '?']\n",
        "\t# reassembled response: do you think that coming here will help you not to be depressed ?\n",
        "DO YOU THINK THAT COMING HERE WILL HELP YOU NOT TO BE DEPRESSED?\n",
        "```"
      ]
    },
    {
      "cell_type": "code",
      "metadata": {
        "colab_type": "code",
        "outputId": "b60cb9a3-d5a8-4ee0-d05f-3e7865dec279",
        "id": "k6d436jYubu0",
        "colab": {
          "base_uri": "https://localhost:8080/",
          "height": 207
        }
      },
      "source": [
        "eliza.say(eliza.respond(\"He says I'm depressed much of the time.\"))"
      ],
      "execution_count": 0,
      "outputs": [
        {
          "output_type": "stream",
          "text": [
            "\t# split words: ['he', 'says', \"i'm\", 'depressed', 'much', 'of', 'the', 'time.']\n",
            "\t# substituting 'i'm' for ['i', 'am']\n",
            "\t# pre-substitutions: ['he', 'says', 'i', 'am', 'depressed', 'much', 'of', 'the', 'time.']\n",
            "\t# keywords: ['i']\n",
            "\t# keyword weights: [1]\n",
            "\t# decomposed response into template: [['he', 'says'], [], ['depressed'], ['much', 'of', 'the', 'time.']]\n",
            "\t# template after post-substitutions and punctuation parsing: [['he', 'says'], [''], ['depressed'], ['much', 'of', 'the', 'time']]\n",
            "\t# applying reassembly template: reassembly template: ['do', 'you', 'think', 'that', 'coming', 'here', 'will', 'help', 'you', 'not', 'to', 'be', '(3)', '?']\n",
            "\t# reassembled response: do you think that coming here will help you not to be depressed ?\n",
            "DO YOU THINK THAT COMING HERE WILL HELP YOU NOT TO BE DEPRESSED?\n"
          ],
          "name": "stdout"
        }
      ]
    },
    {
      "cell_type": "markdown",
      "metadata": {
        "id": "4yBc8Wlwox0e",
        "colab_type": "text"
      },
      "source": [
        "The next cell should produce the following text:\n",
        "```\n",
        "\t# split words: [\"it's\", 'true.', '', 'i', 'am', 'unhappy.']\n",
        "\t# pre-substitutions: [\"it's\", 'true.', '', 'i', 'am', 'unhappy.']\n",
        "\t# keywords: ['i']\n",
        "\t# keyword weights: [1]\n",
        "\t# decomposed response into template: [[\"it's\", 'true.', ''], [], ['unhappy.'], []]\n",
        "\t# template after post-substitutions and punctuation parsing: [[\"it's\", 'true'], [''], ['unhappy'], ['']]\n",
        "\t# applying reassembly template: reassembly template: ['i', 'am', 'sorry', 'to', 'hear', 'that', 'you', 'are', '(3)', '.']\n",
        "\t# reassembled response: i am sorry to hear that you are unhappy .\n",
        "I AM SORRY TO HEAR THAT YOU ARE UNHAPPY.\n",
        "```"
      ]
    },
    {
      "cell_type": "code",
      "metadata": {
        "id": "00BfOzLh0tcE",
        "colab_type": "code",
        "outputId": "6ae83cb3-5ade-453e-afb5-d38217ffaa0c",
        "colab": {
          "base_uri": "https://localhost:8080/",
          "height": 170
        }
      },
      "source": [
        "eliza.say(eliza.respond(\"It's true.  I am unhappy.\"))"
      ],
      "execution_count": 0,
      "outputs": [
        {
          "output_type": "stream",
          "text": [
            "\t# split words: [\"it's\", 'true.', '', 'i', 'am', 'unhappy.']\n",
            "\t# pre-substitutions: [\"it's\", 'true.', '', 'i', 'am', 'unhappy.']\n",
            "\t# keywords: ['i']\n",
            "\t# keyword weights: [1]\n",
            "\t# decomposed response into template: [[\"it's\", 'true.', ''], [], ['unhappy.'], []]\n",
            "\t# template after post-substitutions and punctuation parsing: [[\"it's\", 'true'], [''], ['unhappy'], ['']]\n",
            "\t# applying reassembly template: reassembly template: ['i', 'am', 'sorry', 'to', 'hear', 'that', 'you', 'are', '(3)', '.']\n",
            "\t# reassembled response: i am sorry to hear that you are unhappy .\n",
            "I AM SORRY TO HEAR THAT YOU ARE UNHAPPY.\n"
          ],
          "name": "stdout"
        }
      ]
    },
    {
      "cell_type": "markdown",
      "metadata": {
        "id": "wcbh3c5Uo5XZ",
        "colab_type": "text"
      },
      "source": [
        "The next cell should produce the following text:\n",
        "```\n",
        "\t# split words: ['i', 'need', 'some', 'help,', 'that', 'much', 'seems', 'certain.']\n",
        "\t# pre-substitutions: ['i', 'need', 'some', 'help,', 'that', 'much', 'seems', 'certain.']\n",
        "\t# keywords: ['i']\n",
        "\t# keyword weights: [1]\n",
        "\t# decomposed response into template: [[], ['need'], ['some', 'help,', 'that', 'much', 'seems', 'certain.']]\n",
        "\t# template after post-substitutions and punctuation parsing: [[''], ['need'], ['some', 'help']]\n",
        "\t# applying reassembly template: reassembly template: ['what', 'would', 'it', 'mean', 'to', 'you', 'if', 'you', 'got', '(3)', '?']\n",
        "\t# reassembled response: what would it mean to you if you got some help ?\n",
        "WHAT WOULD IT MEAN TO YOU IF YOU GOT SOME HELP?\n",
        "```"
      ]
    },
    {
      "cell_type": "code",
      "metadata": {
        "id": "H56dOsLW0xwZ",
        "colab_type": "code",
        "outputId": "512698cf-c10b-49a3-b985-29f746f27520",
        "colab": {
          "base_uri": "https://localhost:8080/",
          "height": 170
        }
      },
      "source": [
        "eliza.say(eliza.respond(\"I need some help, that much seems certain.\"))"
      ],
      "execution_count": 0,
      "outputs": [
        {
          "output_type": "stream",
          "text": [
            "\t# split words: ['i', 'need', 'some', 'help,', 'that', 'much', 'seems', 'certain.']\n",
            "\t# pre-substitutions: ['i', 'need', 'some', 'help,', 'that', 'much', 'seems', 'certain.']\n",
            "\t# keywords: ['i']\n",
            "\t# keyword weights: [1]\n",
            "\t# decomposed response into template: [[], ['need'], ['some', 'help,', 'that', 'much', 'seems', 'certain.']]\n",
            "\t# template after post-substitutions and punctuation parsing: [[''], ['need'], ['some', 'help']]\n",
            "\t# applying reassembly template: reassembly template: ['what', 'would', 'it', 'mean', 'to', 'you', 'if', 'you', 'got', '(3)', '?']\n",
            "\t# reassembled response: what would it mean to you if you got some help ?\n",
            "WHAT WOULD IT MEAN TO YOU IF YOU GOT SOME HELP?\n"
          ],
          "name": "stdout"
        }
      ]
    },
    {
      "cell_type": "markdown",
      "metadata": {
        "id": "6V3IB5UJo-v-",
        "colab_type": "text"
      },
      "source": [
        "The next cell should produce the following text:\n",
        "```\n",
        "\t# split words: ['perhaps', 'i', 'could', 'learn', 'to', 'get', 'along', 'with', 'my', 'mother.']\n",
        "\t# pre-substitutions: ['perhaps', 'i', 'could', 'learn', 'to', 'get', 'along', 'with', 'my', 'mother.']\n",
        "\t# keywords: ['my', 'perhaps', 'i']\n",
        "\t# keyword weights: [2, 1, 1]\n",
        "\t# decomposed response into template: [['perhaps', 'i', 'could', 'learn', 'to', 'get', 'along', 'with'], [], ['mother.'], []]\n",
        "\t# substituting 'i' for ['you']\n",
        "\t# template after post-substitutions and punctuation parsing: [['perhaps', 'you', 'could', 'learn', 'to', 'get', 'along', 'with'], [''], ['mother'], ['']]\n",
        "\t# applying reassembly template: reassembly template: ['tell', 'me', 'more', 'about', 'your', 'family.']\n",
        "\t# reassembled response: tell me more about your family.\n",
        "TELL ME MORE ABOUT YOUR FAMILY.\n",
        "```"
      ]
    },
    {
      "cell_type": "code",
      "metadata": {
        "id": "KXjghGqE008k",
        "colab_type": "code",
        "outputId": "976ebf56-9ad2-4403-f7ce-73a5b328faeb",
        "colab": {
          "base_uri": "https://localhost:8080/",
          "height": 207
        }
      },
      "source": [
        "eliza.say(eliza.respond(\"Perhaps I could learn to get along with my mother.\"))"
      ],
      "execution_count": 0,
      "outputs": [
        {
          "output_type": "stream",
          "text": [
            "\t# split words: ['perhaps', 'i', 'could', 'learn', 'to', 'get', 'along', 'with', 'my', 'mother.']\n",
            "\t# pre-substitutions: ['perhaps', 'i', 'could', 'learn', 'to', 'get', 'along', 'with', 'my', 'mother.']\n",
            "\t# keywords: ['my', 'perhaps', 'i']\n",
            "\t# keyword weights: [2, 1, 1]\n",
            "\t# decomposed response into template: [['perhaps', 'i', 'could', 'learn', 'to', 'get', 'along', 'with'], [], ['mother.'], []]\n",
            "\t# substituting 'i' for ['you']\n",
            "\t# template after post-substitutions and punctuation parsing: [['perhaps', 'you', 'could', 'learn', 'to', 'get', 'along', 'with'], [''], ['mother'], ['']]\n",
            "\t# applying reassembly template: reassembly template: ['tell', 'me', 'more', 'about', 'your', 'family.']\n",
            "\t# reassembled response: tell me more about your family.\n",
            "TELL ME MORE ABOUT YOUR FAMILY.\n"
          ],
          "name": "stdout"
        }
      ]
    }
  ]
}